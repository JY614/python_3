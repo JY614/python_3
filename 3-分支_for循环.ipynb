{
 "cells": [
  {
   "cell_type": "markdown",
   "metadata": {},
   "source": [
    "# 三大结构\n",
    "\n",
    "- 顺序\n",
    "- 分支\n",
    "- 循环\n"
   ]
  },
  {
   "cell_type": "markdown",
   "metadata": {},
   "source": [
    "#  分支\n",
    "- 分支的基本语法\n",
    "        \n",
    "        if 条件表达式：      注意 ： \n",
    "            语句1\n",
    "            语句2\n",
    "            语句3\n",
    "            ...\n",
    "            \n",
    "- 条件表达式就是计算结果必须为bool的表达式\n",
    "- 表达式后面的冒号不能少\n",
    "- 注意if后面的出现的语句，如果属于if语句块，则必须同一个锁紧等级\n",
    "- 条件表达式结果为True执行if后面的缩进的语句块\n"
   ]
  },
  {
   "cell_type": "code",
   "execution_count": 2,
   "metadata": {},
   "outputs": [
    {
     "name": "stdout",
     "output_type": "stream",
     "text": [
      "去叫家长\n",
      "滚\n"
     ]
    }
   ],
   "source": [
    "#if 语句练习\n",
    "# 如果age小于18岁，则打印信息“去叫家长”\n",
    "# 统一，缩进就是一个tab\n",
    "age=17\n",
    "if age<18:\n",
    "    print(\"去叫家长\")\n",
    "    print(\"滚\")"
   ]
  },
  {
   "cell_type": "code",
   "execution_count": 6,
   "metadata": {},
   "outputs": [
    {
     "name": "stdout",
     "output_type": "stream",
     "text": [
      "桃谷老师上课咯\n"
     ]
    }
   ],
   "source": [
    "age=19\n",
    "if age<18:\n",
    "    print(\"去叫家长\")\n",
    "    print(\"滚\")\n",
    "print(\"桃谷老师上课咯\")    # 这个属于if外的 注意缩进"
   ]
  },
  {
   "cell_type": "markdown",
   "metadata": {},
   "source": [
    "### 双向分支\n",
    "\n",
    "- if ...else...\n",
    "\n",
    "        if 条件表达式：\n",
    "            语句1\n",
    "            语句2\n",
    "            ...\n",
    "        else :\n",
    "            语句1\n",
    "            语句2 \n",
    "            ...\n",
    "- 双向分支有两个分支，当程序执行到if...else...语句的时候，一定会执行if或else中的一个，也仅执行一个\n",
    "- 缩进问题，if和else一个层级，其余语句一个层级\n"
   ]
  },
  {
   "cell_type": "code",
   "execution_count": 8,
   "metadata": {},
   "outputs": [
    {
     "name": "stdout",
     "output_type": "stream",
     "text": [
      "输入性别female\n",
      "性别为：female\n",
      "wow\n",
      "桃谷老师上课啦\n"
     ]
    }
   ],
   "source": [
    "#例1\n",
    "gender=input(\"输入性别\")\n",
    "print(\"性别为：{0}\".format(gender))\n",
    "\n",
    "if gender==\"male\":    #注意用 ==\n",
    "    print(\"滚\")\n",
    "else :                #和if对齐\n",
    "    print(\"wow\")      #同一个语句块里不对齐语法也错误\n",
    "    \n",
    "print (\"桃谷老师上课啦\")"
   ]
  },
  {
   "cell_type": "code",
   "execution_count": 14,
   "metadata": {},
   "outputs": [
    {
     "name": "stdout",
     "output_type": "stream",
     "text": [
      "输入学生成绩：98\n",
      "优\n"
     ]
    }
   ],
   "source": [
    "# 例2\n",
    "# 90以上：优秀  60-90 ：良 60以下：我没你这学生\n",
    "#score 存放学生成绩\n",
    "\n",
    "score = input(\"输入学生成绩：\")         #注意input返回值类型\n",
    "score=int (score)                      #input里面是str，要把它转换成数字\n",
    "if score >= 90:\n",
    "    print (\"优\")\n",
    "if (score >=60) and (score<90):\n",
    "    print (\"良\")\n",
    "if score <60:\n",
    "    print(\"我没你这学生\")\n"
   ]
  },
  {
   "cell_type": "markdown",
   "metadata": {},
   "source": [
    "## 多路分支\n",
    "\n",
    "- 很多分支的情况，简称多路分支\n",
    "\n",
    "            if 条件表达式：\n",
    "                语句1\n",
    "                ...\n",
    "            elif 条件表达式：\n",
    "                语句1\n",
    "                ...\n",
    "            elif 条件表达式：\n",
    "                语句1\n",
    "                ...\n",
    "            elif 条件表达式：\n",
    "                语句1\n",
    "                ...\n",
    "                \n",
    "- elif 可以有很多款\n",
    "- else可选\n",
    "- 多路分只会选一个执行"
   ]
  },
  {
   "cell_type": "code",
   "execution_count": 15,
   "metadata": {},
   "outputs": [
    {
     "name": "stdout",
     "output_type": "stream",
     "text": [
      "输入学生成绩：76\n",
      "良\n"
     ]
    }
   ],
   "source": [
    "#与上个比较区别  \n",
    "score = input(\"输入学生成绩：\")\n",
    "score=int (score)       #要把score里input的str类型转化为int类型\n",
    "if score >= 90:\n",
    "    print (\"优\")\n",
    "elif score >=60:\n",
    "    print (\"良\")\n",
    "elif score <60:\n",
    "    print(\"我没你这学生\")"
   ]
  },
  {
   "cell_type": "code",
   "execution_count": 19,
   "metadata": {},
   "outputs": [
    {
     "name": "stdout",
     "output_type": "stream",
     "text": [
      "输入学生成绩：98\n",
      "优\n",
      "良\n"
     ]
    }
   ],
   "source": [
    "# if 和 elif 的区别\n",
    "score = input(\"输入学生成绩：\")\n",
    "score=int (score)\n",
    "if score >= 90:\n",
    "    print (\"优\")\n",
    "if (score >=60) :\n",
    "    print (\"良\")\n",
    "if score <60:\n",
    "    print(\"我没你这学生\")"
   ]
  },
  {
   "cell_type": "markdown",
   "metadata": {},
   "source": [
    "## if语句其它\n",
    "- if语句可以嵌套使用，但是不推荐\n",
    "- 没有switch-case语句"
   ]
  },
  {
   "cell_type": "markdown",
   "metadata": {},
   "source": [
    "# 循环语句\n",
    "- 重复执行某些固定动作或者处理基本固定的事务\n",
    "- 分类\n",
    "    - for循环\n",
    "    - while循环\n",
    "\n",
    "## for循环\n",
    "- for循环\n",
    "        \n",
    "        for 变量 in 序列：\n",
    "            语句1\n",
    "            语句2\n",
    "            语句3\n",
    "            ..."
   ]
  },
  {
   "cell_type": "code",
   "execution_count": 24,
   "metadata": {},
   "outputs": [
    {
     "name": "stdout",
     "output_type": "stream",
     "text": [
      "zhangsan\n",
      "xiaoming\n",
      "mlxg\n"
     ]
    }
   ],
   "source": [
    "\n",
    "#例 1\n",
    "#列表就是一列数字或者其他值，一般用中括号表示\n",
    "#例如  ['zhangsan','xiaoming','mlxg']\n",
    "\n",
    "#打印学生列表姓名\n",
    "for name in ['zhangsan','xiaoming','mlxg']: #对于列表里每一个值，临时取名为name\n",
    "    print(name)\n",
    "    \n",
    "    \n",
    "    "
   ]
  },
  {
   "cell_type": "code",
   "execution_count": 29,
   "metadata": {},
   "outputs": [
    {
     "name": "stdout",
     "output_type": "stream",
     "text": [
      "zhangsan\n",
      "zhangsan不错哟\n",
      "xiaoming\n",
      "xiaoming不错哟\n",
      "mlxg\n",
      " mlxg很菜\n"
     ]
    }
   ],
   "source": [
    "#例 2\n",
    "#打印学生列表姓名\n",
    "#如果是mlxg，那 菜\n",
    "#如果是别人，不错哟\n",
    "for name in ['zhangsan','xiaoming','mlxg']: #对于列表里每一个值，临时取名为name\n",
    "    print(name)\n",
    "    if name==\"mlxg\":\n",
    "        print(\" {0}很菜\".format(name))\n",
    "    else:\n",
    "        print(\"{0}不错哟\".format(name))"
   ]
  },
  {
   "cell_type": "markdown",
   "metadata": {},
   "source": [
    "## range介绍\n",
    "- 生产一个数字序列\n",
    "- 具体范围可以设定"
   ]
  },
  {
   "cell_type": "code",
   "execution_count": 30,
   "metadata": {},
   "outputs": [
    {
     "name": "stdout",
     "output_type": "stream",
     "text": [
      "1\n",
      "2\n",
      "3\n",
      "4\n",
      "5\n",
      "6\n",
      "7\n",
      "8\n",
      "9\n"
     ]
    }
   ],
   "source": [
    "#range 练习\n",
    "# 打印从1-10的数字\n",
    "# 注意！ range括号包含左，不包含右，左闭右开区间\n",
    "\n",
    "for i in range(1,10):  # 10不包含在内\n",
    "    print (i)"
   ]
  },
  {
   "cell_type": "code",
   "execution_count": 31,
   "metadata": {},
   "outputs": [
    {
     "name": "stdout",
     "output_type": "stream",
     "text": [
      "1\n",
      "2\n",
      "3\n",
      "4\n",
      "5\n",
      "6\n",
      "7\n",
      "8\n",
      "9\n",
      "10\n"
     ]
    }
   ],
   "source": [
    "for i in range(1,11):  # 10包含在内了\n",
    "    print (i)"
   ]
  },
  {
   "cell_type": "markdown",
   "metadata": {},
   "source": [
    "# for-else语句\n",
    "- 当for循环结束的时候，就会执行else语句\n",
    "- else语句是可选语句"
   ]
  },
  {
   "cell_type": "code",
   "execution_count": 34,
   "metadata": {
    "scrolled": true
   },
   "outputs": [
    {
     "name": "stdout",
     "output_type": "stream",
     "text": [
      "zhangsan\n",
      "zhangsan不错哟\n",
      "xiaoming\n",
      "xiaoming不错哟\n",
      "mlxg\n",
      " mlxg很菜\n",
      "别人滚\n"
     ]
    }
   ],
   "source": [
    "#for-else语句\n",
    "# 打印列表中的同学\n",
    "# 如果没有在列表中，或者列表结束了骂我们需要打印提示语句，表示不再爱了\n",
    "for name in ['zhangsan','xiaoming','mlxg']: #对于列表里每一个值，临时取名为name\n",
    "    print(name)\n",
    "    if name==\"mlxg\":\n",
    "        print(\" {0}很菜\".format(name))\n",
    "    else:\n",
    "        print(\"{0}不错哟\".format(name))\n",
    "else:\n",
    "    print (\"别人滚\")\n",
    "\n"
   ]
  },
  {
   "cell_type": "markdown",
   "metadata": {},
   "source": [
    "## for循环之break continue，pass\n",
    "\n",
    "- break：无条件结束整个循环\n",
    "- continue：无条件结束本次循环，重新进入下一轮\n",
    "- pass ：表示略过\n"
   ]
  },
  {
   "cell_type": "code",
   "execution_count": 35,
   "metadata": {},
   "outputs": [
    {
     "name": "stdout",
     "output_type": "stream",
     "text": [
      "1\n",
      "2\n",
      "3\n",
      "4\n",
      "5\n",
      "6\n",
      "找到了\n"
     ]
    }
   ],
   "source": [
    "#例 1 \n",
    "# 在1-10的数字中，寻找数字7，一旦找到，打印出来，然后就结束\n",
    "# 一般情况下i表示数字，之后用k,m,n,或者indx,idx,item之类\n",
    "# 在python中，如果循环变量名不重要，可以用下划线(_)代替\n",
    "\n",
    "for i in range (1,11):\n",
    "    if i==7 :\n",
    "        print(\"找到了\")\n",
    "        break\n",
    "    else:\n",
    "        print(i)"
   ]
  },
  {
   "cell_type": "code",
   "execution_count": 36,
   "metadata": {},
   "outputs": [
    {
     "name": "stdout",
     "output_type": "stream",
     "text": [
      "2是偶数\n",
      "4是偶数\n",
      "6是偶数\n",
      "8是偶数\n",
      "10是偶数\n"
     ]
    }
   ],
   "source": [
    "# 例 2  \n",
    "# 在1-10的数字中，寻找偶数，奇数什么都不干\n",
    "版本1\n",
    "for i in range (1,11):\n",
    "    if i%2==1 :\n",
    "        continue\n",
    "    else:\n",
    "        print(\"{0}是偶数\".format(i))\n",
    "        \n",
    "        "
   ]
  },
  {
   "cell_type": "code",
   "execution_count": 38,
   "metadata": {},
   "outputs": [
    {
     "name": "stdout",
     "output_type": "stream",
     "text": [
      "2是偶数\n",
      "4是偶数\n",
      "6是偶数\n",
      "8是偶数\n",
      "10是偶数\n"
     ]
    }
   ],
   "source": [
    "#版本2\n",
    "for i in range (1,11):\n",
    "    if i%2==0 :\n",
    "        print(\"{0}是偶数\".format(i))\n",
    "        "
   ]
  },
  {
   "cell_type": "code",
   "execution_count": 39,
   "metadata": {},
   "outputs": [
    {
     "name": "stdout",
     "output_type": "stream",
     "text": [
      "这楼是我的\n",
      "这楼是我的\n",
      "这楼是我的\n",
      "这楼是我的\n",
      "这楼是我的\n",
      "这楼是我的\n",
      "这楼是我的\n",
      "这楼是我的\n",
      "这楼是我的\n",
      "这楼是我的\n"
     ]
    }
   ],
   "source": [
    "# pass 例子，一般用于占位\n",
    "\n",
    "for i in range(1,11):\n",
    "    pass \n",
    "    print(\"这楼是我的\")"
   ]
  },
  {
   "cell_type": "code",
   "execution_count": null,
   "metadata": {},
   "outputs": [],
   "source": []
  },
  {
   "cell_type": "code",
   "execution_count": null,
   "metadata": {},
   "outputs": [],
   "source": []
  },
  {
   "cell_type": "code",
   "execution_count": null,
   "metadata": {},
   "outputs": [],
   "source": []
  }
 ],
 "metadata": {
  "kernelspec": {
   "display_name": "Python 3",
   "language": "python",
   "name": "python3"
  },
  "language_info": {
   "codemirror_mode": {
    "name": "ipython",
    "version": 3
   },
   "file_extension": ".py",
   "mimetype": "text/x-python",
   "name": "python",
   "nbconvert_exporter": "python",
   "pygments_lexer": "ipython3",
   "version": "3.7.1"
  }
 },
 "nbformat": 4,
 "nbformat_minor": 2
}
