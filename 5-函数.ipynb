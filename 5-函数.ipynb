{
 "cells": [
  {
   "cell_type": "markdown",
   "metadata": {},
   "source": [
    "# 四类参数\n",
    "- 普通参数\n",
    "- 默认参数\n",
    "- 关键字参数\n",
    "- 收集参数\n",
    "\n",
    "## 关键字参数\n",
    "- 语法\n",
    "            \n",
    "            def func(p1=v1,p2=v2...):\n",
    "                func_body\n",
    "                \n",
    "            #调用函数\n",
    "             func(p1=value1,p2=value2...)\n",
    " \n",
    "- 比较麻烦，但是也有好处\n",
    "    - 不容易混淆，一般实参和形参只是按照位置一一对应，容易出错\n",
    "    - 使用关键字参数，可以不考虑参数位置"
   ]
  },
  {
   "cell_type": "code",
   "execution_count": 5,
   "metadata": {},
   "outputs": [
    {
     "name": "stdout",
     "output_type": "stream",
     "text": [
      "i am a student\n",
      "我叫王大锤，今年18岁，我住马路上\n"
     ]
    }
   ],
   "source": [
    "#关键字参数 例子\n",
    "#普通参数\n",
    "def stu(name,age,addr):\n",
    "    print(\"i am a student\")\n",
    "    print(\"我叫{0}，今年{1}岁，我住{2}\".format(name,age,addr))\n",
    "\n",
    "n=\"王大锤\"\n",
    "a=18\n",
    "addr=\"马路上\"\n",
    "\n",
    "stu(n,a,addr)\n"
   ]
  },
  {
   "cell_type": "code",
   "execution_count": 6,
   "metadata": {},
   "outputs": [
    {
     "name": "stdout",
     "output_type": "stream",
     "text": [
      "i am a student\n",
      "我叫王大锤，今年18岁，我住马路上\n"
     ]
    }
   ],
   "source": [
    "#关键字参数\n",
    "def stu(name=\"NO name\",age=0,addr=\"no address\"):# 形参后面不要加空格，逗号 后面加空格 习惯问题\n",
    "    print(\"i am a student\")\n",
    "    print(\"我叫{0}，今年{1}岁，我住{2}\".format(name,age,addr))\n",
    "\n",
    "n = \"王大锤\"    #习惯要在 n = ，后面加空格\n",
    "a = 18          \n",
    "addr = \"马路上\"\n",
    "\n",
    "stu(addr=addr,name=n,age=a)\n"
   ]
  },
  {
   "cell_type": "markdown",
   "metadata": {},
   "source": [
    "## 收集参数\n",
    "- 把没有位置，不能和定义时的参数位置相对应的参数，放入一个特定的数据结构中\n",
    "- 语法\n",
    "\n",
    "            def func(*args):\n",
    "                func_body           \n",
    "      #可以按照list使用放视访问args得到传入的参数，args为参数\n",
    "                \n",
    "            #调用\n",
    "            func(p1,p2,p3,...)\n",
    "\n",
    "- 参数名args不是必须这么写，但是，我们推荐直接用args，约定俗成\n",
    "- 参数名args前需要有*，表明这是一个收集参数\n",
    "- 收集参数可以和其他的参数共存"
   ]
  },
  {
   "cell_type": "code",
   "execution_count": 8,
   "metadata": {},
   "outputs": [
    {
     "name": "stdout",
     "output_type": "stream",
     "text": [
      "HI,bro,我要自我介绍了\n",
      "<class 'tuple'>\n",
      "王大锤\n",
      "18\n",
      "养猪场\n",
      "单身狗\n",
      "HI,bro,我要自我介绍了\n",
      "<class 'tuple'>\n",
      "桃谷绘里香\n",
      "21\n"
     ]
    }
   ],
   "source": [
    "# 收集参数代码\n",
    "# 函数模拟一个学生自我介绍，但具体内容不清楚，参数不清楚\n",
    "# args把它看作一个list\n",
    "def stu(*args):            #注意这种写法\n",
    "    print(\"HI,bro,我要自我介绍了\")\n",
    "    print(type(args))      #type函数 作用是检测变量的类型\n",
    "    for item in args:      #用type把args打印出来  ，用for循环打印 list\n",
    "        print(item)\n",
    "\n",
    "stu(\"王大锤\",18,\"养猪场\",\"单身狗\")\n",
    "stu(\"桃谷绘里香\",21)"
   ]
  },
  {
   "cell_type": "code",
   "execution_count": 9,
   "metadata": {
    "scrolled": true
   },
   "outputs": [
    {
     "name": "stdout",
     "output_type": "stream",
     "text": [
      "HI,bro,我要自我介绍了\n",
      "<class 'tuple'>\n"
     ]
    }
   ],
   "source": [
    "# 收集参数案例\n",
    "# 说明收集参数可以不带任何实参调用，此时收集参数为空tuple\n",
    "stu()\n"
   ]
  },
  {
   "cell_type": "code",
   "execution_count": 11,
   "metadata": {
    "scrolled": true
   },
   "outputs": [
    {
     "ename": "TypeError",
     "evalue": "stu() got an unexpected keyword argument 'name'",
     "output_type": "error",
     "traceback": [
      "\u001b[1;31m---------------------------------------------------------------------------\u001b[0m",
      "\u001b[1;31mTypeError\u001b[0m                                 Traceback (most recent call last)",
      "\u001b[1;32m<ipython-input-11-e241b0348c57>\u001b[0m in \u001b[0;36m<module>\u001b[1;34m\u001b[0m\n\u001b[0;32m      1\u001b[0m \u001b[1;31m#如果使用关键字参数格式调用，会出现问题\u001b[0m\u001b[1;33m\u001b[0m\u001b[1;33m\u001b[0m\u001b[1;33m\u001b[0m\u001b[0m\n\u001b[1;32m----> 2\u001b[1;33m \u001b[0mstu\u001b[0m\u001b[1;33m(\u001b[0m\u001b[0mname\u001b[0m\u001b[1;33m=\u001b[0m\u001b[1;34m\"wangdachui\"\u001b[0m\u001b[1;33m)\u001b[0m\u001b[1;33m\u001b[0m\u001b[1;33m\u001b[0m\u001b[0m\n\u001b[0m",
      "\u001b[1;31mTypeError\u001b[0m: stu() got an unexpected keyword argument 'name'"
     ]
    }
   ],
   "source": [
    "#如果使用关键字参数格式调用，会出现问题\n",
    "stu(name=\"wangdachui\")"
   ]
  },
  {
   "cell_type": "markdown",
   "metadata": {},
   "source": [
    "### 收集参数之 关键字收集参数\n",
    "\n",
    "- 把 关键字参数 按 字典格式 存入收集参数\n",
    "- 语法\n",
    "\n",
    "        def func(**kwargs)  #kwargs=keyword args,约定俗称的写法\n",
    "            func_body\n",
    "        \n",
    "        #调用：\n",
    "        func=(p1=v1,p2=v2,p3=v3......)\n",
    "        \n",
    "- 调用的时候，把多余的关键字参数放入kwargs\n",
    "- 访问kwargs需要按字典格式访问\n"
   ]
  },
  {
   "cell_type": "code",
   "execution_count": 19,
   "metadata": {},
   "outputs": [
    {
     "name": "stdout",
     "output_type": "stream",
     "text": [
      "hi 自我介绍\n",
      "<class 'dict'>\n",
      "name ---- 王大锤\n",
      "age ---- 19\n",
      "addr ---- 养猪场\n",
      "habit ---- 看片\n",
      "********************\n",
      "hi 自我介绍\n",
      "<class 'dict'>\n",
      "name ---- 桃谷绘里香\n"
     ]
    }
   ],
   "source": [
    "# 关键字收集参数案例\n",
    "# 自我介绍\n",
    "# 调用的时候需要使用关键字参数调用\n",
    "\n",
    "\n",
    "def stu(**kwargs):\n",
    "    # 在函数体内对于kwargs的使用不带*\n",
    "    print(\"hi 自我介绍\")\n",
    "    print(type(kwargs))\n",
    "    for k,v in kwargs.items():   #字典访问方式\n",
    "        print(k,\"----\",v)        \n",
    "        \n",
    "stu(name=\"王大锤\",age=19,addr=\"养猪场\",habit=\"看片\")\n",
    "print(\"*\"*20)  #也可以写成 print(\"*\"*26) \n",
    "stu(name=\"桃谷绘里香\")"
   ]
  },
  {
   "cell_type": "code",
   "execution_count": 21,
   "metadata": {},
   "outputs": [
    {
     "name": "stdout",
     "output_type": "stream",
     "text": [
      "hi 自我介绍\n",
      "<class 'dict'>\n"
     ]
    }
   ],
   "source": [
    "# 无参数也行\n",
    "stu()             "
   ]
  },
  {
   "cell_type": "markdown",
   "metadata": {},
   "source": [
    "### 收集参数混合调用的顺序问题\n",
    "- 收集参数，关键字参数买普通参数可以混合使用\n",
    "- 使用规则就是，普通参数和关键字参数有限\n",
    "- 定义的时候一般找普通参数，关键字参数，收集参数tuple，收集参数dict"
   ]
  },
  {
   "cell_type": "code",
   "execution_count": 65,
   "metadata": {},
   "outputs": [
    {
     "name": "stdout",
     "output_type": "stream",
     "text": [
      "Hello \n",
      "我叫王大锤,今年20岁\n",
      "我没有爱好\n",
      "********************\n",
      "####################\n",
      "Hello \n",
      "我叫王大锤,今年20岁\n",
      "我的爱好是吃饭\n",
      "********************\n",
      "####################\n",
      "Hello \n",
      "我叫王大锤,今年20岁\n",
      "我没有爱好\n",
      "********************\n",
      "####################\n",
      "habit1 --- 看片\n",
      "habit2 --- 养猪\n",
      "habit3 --- 嘿嘿嘿\n"
     ]
    }
   ],
   "source": [
    "# 收集参数混合调用 案例\n",
    "#stu模拟一个学生的自我介绍\n",
    "def stu(name,age,habits=\"没有\",*args,**kwargs):  #注意顺序\n",
    "    print(\"Hello \")\n",
    "    print(\"我叫{0},今年{1}岁\".format(name,age))\n",
    "    if habits==\"没有\":\n",
    "        print(\"我没有爱好\")\n",
    "    else:\n",
    "        print(\"我的爱好是{0}\".format(habits))\n",
    "    print(\"*\"*20)\n",
    "    \n",
    "    for i in args:      #有别的普通参数\n",
    "        print (i)\n",
    "    \n",
    "    print(\"#\"*20)\n",
    "    \n",
    "    for k,v in kwargs.items(): # 注意kwargs.items()的语法\n",
    "        print(k,\"---\",v)\n",
    "    \n",
    "#调用\n",
    "n = \"王大锤\"\n",
    "a = 20\n",
    "stu(n,a)\n",
    "stu(n,a,habits=\"吃饭\")\n",
    "stu(n,a,habit1=\"看片\",habit2=\"养猪\",habit3=\"嘿嘿嘿\") #险些定义好的参数，在写没定义的参数\n"
   ]
  },
  {
   "cell_type": "markdown",
   "metadata": {},
   "source": [
    "### 收集参数的解包问题\n",
    "- 把参数放入list或者字典 中，直接把list/dict中的值放入收集参数中\n",
    "- 语法：参看案例"
   ]
  },
  {
   "cell_type": "code",
   "execution_count": 66,
   "metadata": {},
   "outputs": [
    {
     "name": "stdout",
     "output_type": "stream",
     "text": [
      "嘿嘿嘿\n",
      "<class 'list'>\n",
      "0\n",
      "['王大锤', 28]\n"
     ]
    }
   ],
   "source": [
    "#收集参数的解包问题\n",
    "\n",
    "def stu(*args):\n",
    "    n=0 #n表示循环次数，主要用来调试\n",
    "    print(\"嘿嘿嘿\")\n",
    "    for i in args:\n",
    "        print(type(i))\n",
    "        print(n)\n",
    "        n+=1   \n",
    "        print(i) \n",
    "l=list()             #语法  \n",
    "l.append(\"王大锤\")  #相当于【\"王大锤\"，28】\n",
    "l.append(28)         #把list的值\n",
    "stu(l)\n",
    "# 此时，args表示形式是字典内一个list类型的元素，即arg=([\"王大锤\"，28]，)\n",
    "# 很显然跟我们最初的想法违背\n",
    "#此时的调用，我们就需要解包符号，即调用的时候前面加一个*\n",
    "stu(*l)\n"
   ]
  },
  {
   "cell_type": "markdown",
   "metadata": {},
   "source": [
    "## 返回值\n",
    "\n",
    "- 函数和过程的区别\n",
    "    - 有无返回值\n",
    "- 需要用return表示返回内容\n",
    "- 如果没有返回，则默认返回None\n",
    "- 推荐写法，无论有没有返回值，最后都用给return结尾，没有就用return None"
   ]
  },
  {
   "cell_type": "code",
   "execution_count": 68,
   "metadata": {},
   "outputs": [
    {
     "name": "stdout",
     "output_type": "stream",
     "text": [
      "有返回值1\n",
      "1\n",
      "没返回值\n",
      "None\n"
     ]
    }
   ],
   "source": [
    "# 返回值示例\n",
    " \n",
    "def func_1():\n",
    "    print(\"有返回值1\")\n",
    "    return 1\n",
    "def func_2():\n",
    "    print(\"没返回值\")\n",
    "    return None    # None可以不写\n",
    "f1= func_1()\n",
    "print(f1)\n",
    "f2= func_2()\n",
    "print(f2)        # 返回值是None\n"
   ]
  },
  {
   "cell_type": "markdown",
   "metadata": {},
   "source": [
    "# 函数文档\n",
    "- 函数的文档的作用是对当前函数提供相关的参考信息\n",
    "- 文档的写法：\n",
    "    - 在函数内部开始的第一行使用 三引号 串定义符\n",
    "    - 一般具有特定格式\n",
    "    - 参看案例\n",
    "- 文档查看\n",
    "    - 使用help函数，形如help（func）\n",
    "    - 使用__doc__,参看案例"
   ]
  },
  {
   "cell_type": "code",
   "execution_count": 76,
   "metadata": {},
   "outputs": [],
   "source": [
    "# 文档案例\n",
    "# 函数stu是模拟学生自我介绍的内容\n",
    "def stu( name,age,*args):\n",
    "    '''\n",
    "    这是文档\n",
    "    第一行\n",
    "    '''\n",
    "    print(\"this is 文档\")"
   ]
  },
  {
   "cell_type": "code",
   "execution_count": 71,
   "metadata": {},
   "outputs": [
    {
     "name": "stdout",
     "output_type": "stream",
     "text": [
      "Help on function stu in module __main__:\n",
      "\n",
      "stu(name, age, *args)\n",
      "    这是文档\n",
      "\n"
     ]
    }
   ],
   "source": [
    "#查看 方法一\n",
    "help(stu)"
   ]
  },
  {
   "cell_type": "code",
   "execution_count": 73,
   "metadata": {},
   "outputs": [
    {
     "data": {
      "text/plain": [
       "'这是文档'"
      ]
     },
     "execution_count": 73,
     "metadata": {},
     "output_type": "execute_result"
    }
   ],
   "source": [
    "# 查看 方法二\n",
    "stu.__doc__"
   ]
  },
  {
   "cell_type": "code",
   "execution_count": null,
   "metadata": {},
   "outputs": [],
   "source": []
  }
 ],
 "metadata": {
  "kernelspec": {
   "display_name": "Python 3",
   "language": "python",
   "name": "python3"
  },
  "language_info": {
   "codemirror_mode": {
    "name": "ipython",
    "version": 3
   },
   "file_extension": ".py",
   "mimetype": "text/x-python",
   "name": "python",
   "nbconvert_exporter": "python",
   "pygments_lexer": "ipython3",
   "version": "3.7.1"
  }
 },
 "nbformat": 4,
 "nbformat_minor": 2
}
