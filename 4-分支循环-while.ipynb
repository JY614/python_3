{
 "cells": [
  {
   "cell_type": "markdown",
   "metadata": {},
   "source": [
    "# while 循环\n",
    "- 一个循环语句\n",
    "- 表示当某条件成立的时候，就循环\n",
    "- 不知道具体循环次数，但能确定循环的成立条件的时候用while循环\n",
    "- 语法1 ：\n",
    "                    \n",
    "                    while 条件表达式：\n",
    "                        语句块\n",
    "- 语法2 ：\n",
    "\n",
    "                    while 条件表达式：\n",
    "                        语句块1\n",
    "                    else：\n",
    "                        语句块2"
   ]
  },
  {
   "cell_type": "code",
   "execution_count": 8,
   "metadata": {},
   "outputs": [
    {
     "name": "stdout",
     "output_type": "stream",
     "text": [
      "第1年拿了102699.99999999999元\n",
      "第2年拿了105472.89999999998元\n",
      "第3年拿了108320.66829999998元\n",
      "第4年拿了111245.32634409997元\n",
      "第5年拿了114248.95015539066元\n",
      "第6年拿了117333.6718095862元\n",
      "第7年拿了120501.68094844502元\n",
      "第8年拿了123755.22633405302元\n",
      "第9年拿了127096.61744507244元\n",
      "第10年拿了130528.22611608938元\n",
      "第11年拿了134052.4882212238元\n",
      "第12年拿了137671.9054031968元\n",
      "第13年拿了141389.04684908313元\n",
      "第14年拿了145206.55111400835元\n",
      "第15年拿了149127.12799408656元\n",
      "第16年拿了153153.56044992688元\n",
      "第17年拿了157288.7065820749元\n",
      "第18年拿了161535.5016597909元\n",
      "第19年拿了165896.96020460525元\n",
      "第20年拿了170376.17813012959元\n",
      "第21年拿了174976.33493964307元\n",
      "第22年拿了179700.69598301343元\n",
      "第23年拿了184552.61477455476元\n",
      "第24年拿了189535.53537346772元\n",
      "第25年拿了194652.99482855134元\n",
      "第26年拿了199908.6256889222元\n",
      "第27年拿了205306.1585825231元\n",
      "else出现了\n",
      "翻倍了\n"
     ]
    }
   ],
   "source": [
    "# 如果年利率是6.7%，滚利，则多少年后本钱翻倍\n",
    "\n",
    "benqian=100000\n",
    "year=0\n",
    "while benqian<200000:\n",
    "    benqian=benqian*1.027\n",
    "    year+=1\n",
    "    print(\"第{0}年拿了{1}元\".format(year,benqian))\n",
    "else:\n",
    "    print(\"else出现了\")\n",
    "    print (\"翻倍了\")"
   ]
  },
  {
   "cell_type": "markdown",
   "metadata": {},
   "source": [
    "# 函数\n",
    "- 代码的一种组织形式\n",
    "- 一个函数一般完成一项特定的功能\n",
    "- 函数的使用\n",
    "    - 函数需要先定义\n",
    "    - 使用函数，俗称调用\n",
    "      "
   ]
  },
  {
   "cell_type": "code",
   "execution_count": 10,
   "metadata": {},
   "outputs": [],
   "source": [
    "#定义一个函数\n",
    "#只是定义的话不会执行\n",
    "#1.def关键字，后跟一个空格\n",
    "#2.函数名，自己定义，起名要遵循便令命名规则，不要使用大驼峰命名！\n",
    "#3.后面()和 :不等省，括号内可以有 参 数\n",
    "#4.函数内所有代码缩进\n",
    "\n",
    "def func():\n",
    "    print(\"我是一个函数\")     #缩进！！！\n",
    "    print(\"我结束了\")"
   ]
  },
  {
   "cell_type": "code",
   "execution_count": 11,
   "metadata": {},
   "outputs": [
    {
     "name": "stdout",
     "output_type": "stream",
     "text": [
      "我是一个函数\n",
      "我结束了\n"
     ]
    }
   ],
   "source": [
    "# 函数调用\n",
    "# 直接函数名后面跟括号\n",
    "func()"
   ]
  },
  {
   "cell_type": "markdown",
   "metadata": {},
   "source": [
    "### 函数的参数和返回值\n",
    "- 参数： 负责给函数传递一些必要的数据或者信息\n",
    "    - 形参 （形式参数）：在函数定义的时候用到的参数没有具体值，只是一个占位的符号，成为形参\n",
    "    - 实参 （实际参数）：在调用函数的时候输入的值\n",
    "- 返回值：函数的执行结果\n",
    "    - 使用return关键字\n",
    "    - 如果没有return，默认返回一个None\n",
    "    - 函数一旦执行return语句，则无条件返回，即结束函数执行"
   ]
  },
  {
   "cell_type": "code",
   "execution_count": 13,
   "metadata": {},
   "outputs": [
    {
     "name": "stdout",
     "output_type": "stream",
     "text": [
      "王大锤 ,hello\n"
     ]
    }
   ],
   "source": [
    "#参数的定义和使用\n",
    "#参数person只是一个符号，代表的是调用的时候的某一个数据\n",
    "#调用的时候，会用p值代替函数中所有的person\n",
    "def hello(person):\n",
    "    print (\"{0} ,hello\".format(person))\n",
    "    \n",
    "p=\"王大锤\"\n",
    "hello(p)"
   ]
  },
  {
   "cell_type": "code",
   "execution_count": 17,
   "metadata": {},
   "outputs": [
    {
     "name": "stdout",
     "output_type": "stream",
     "text": [
      "王大锤,hi\n",
      "hello()执行好了\n",
      "say hi to 王大锤, 王大锤不理我\n",
      "print（rst）执行好了\n"
     ]
    }
   ],
   "source": [
    "# return语句的基本使用\n",
    "# 函数打完招呼后返回一句话\n",
    "def hello(person):\n",
    "    print (\"{0},hi\".format(person))\n",
    "    return \"say hi to {0}, {1}不理我\".format(person,person)\n",
    "\n",
    "p=\"王大锤\"\n",
    "rst=hello(p)\n",
    "print(\"hello()执行好了\")\n",
    "print(rst)\n",
    "print(\"print（rst执行好了\")\n",
    "\n",
    "\n"
   ]
  },
  {
   "cell_type": "code",
   "execution_count": 19,
   "metadata": {},
   "outputs": [
    {
     "name": "stdout",
     "output_type": "stream",
     "text": [
      "王大锤,你怎么了\n",
      "hello()执行好了\n",
      "sb，我已经提前return了\n",
      "print（rst）执行好了\n"
     ]
    }
   ],
   "source": [
    "#return案例2\n",
    "\n",
    "def hello(person):\n",
    "    print(\"{0},你怎么了\".format(person))\n",
    "    return\"sb，我已经提前return了\"\n",
    "    print(\"搞什么呀\")\n",
    "    return \"say hi to {0}, {1}不理我\".format(person,person)\n",
    "\n",
    "p=\"王大锤\"\n",
    "rst=hello(p)\n",
    "print(\"hello()执行好了\")\n",
    "print(rst)\n",
    "print(\"print（rst）执行好了\")\n"
   ]
  },
  {
   "cell_type": "code",
   "execution_count": 22,
   "metadata": {},
   "outputs": [
    {
     "name": "stdout",
     "output_type": "stream",
     "text": [
      "1 --a line\n",
      "2 --a line\n",
      "3 --a line\n",
      "4 --a line\n",
      "5 --a line\n",
      "6 --a line\n",
      "7 --a line\n",
      "8 --a line\n",
      "9 --a line\n"
     ]
    }
   ],
   "source": [
    "# 九九乘法表\n",
    "#一个三角形的结构\n",
    "\n",
    "\n",
    "for row in range(1,10):\n",
    "    \n",
    "    print(\"{0} --a line\".format(row))  #先弄出9行"
   ]
  },
  {
   "cell_type": "code",
   "execution_count": 61,
   "metadata": {
    "scrolled": true
   },
   "outputs": [
    {
     "name": "stdout",
     "output_type": "stream",
     "text": [
      "1 ......\n",
      "2 4 ......\n",
      "3 6 9 ......\n",
      "4 8 12 16 ......\n",
      "5 10 15 20 25 ......\n",
      "6 12 18 24 30 36 ......\n",
      "7 14 21 28 35 42 49 ......\n",
      "8 16 24 32 40 48 56 64 ......\n",
      "9 18 27 36 45 54 63 72 81 ......\n"
     ]
    }
   ],
   "source": [
    "for row in range(1,10):\n",
    "    for col in range(1,row+1):     #注意range不包含右边\n",
    "        print(\"{0}\".format(row*col),end=\" \")     #print 打印出来是自动换行\n",
    "    print(\"{0}\".format(\"......\",chr(12288)))  "
   ]
  },
  {
   "cell_type": "code",
   "execution_count": 77,
   "metadata": {},
   "outputs": [
    {
     "name": "stdout",
     "output_type": "stream",
     "text": [
      "1  \n",
      "2  4  \n",
      "3  6  9  \n",
      "4  8  12 16 \n",
      "5  10 15 20 25 \n",
      "6  12 18 24 30 36 \n",
      "7  14 21 28 35 42 49 \n",
      "8  16 24 32 40 48 56 64 \n",
      "9  18 27 36 45 54 63 72 81 \n"
     ]
    }
   ],
   "source": [
    "def printLine(row):\n",
    "    for col in range(1,row+1):\n",
    "        #print函数默认任务打印晚后换行\n",
    "        if((row*col)<10):                   #对齐colum\n",
    "            print(\"{0} \".format(row*col),end=\" \")\n",
    "        else:\n",
    "            print(\"{0}\".format(row*col),end=\" \")\n",
    "    print(\"\")\n",
    "        \n",
    "for row in range(1,10):\n",
    "    printLine(row)"
   ]
  },
  {
   "cell_type": "code",
   "execution_count": 23,
   "metadata": {
    "scrolled": true
   },
   "outputs": [
    {
     "name": "stdout",
     "output_type": "stream",
     "text": [
      "Help on built-in function print in module builtins:\n",
      "\n",
      "print(...)\n",
      "    print(value, ..., sep=' ', end='\\n', file=sys.stdout, flush=False)\n",
      "    \n",
      "    Prints the values to a stream, or to sys.stdout by default.\n",
      "    Optional keyword arguments:\n",
      "    file:  a file-like object (stream); defaults to the current sys.stdout.\n",
      "    sep:   string inserted between values, default a space.\n",
      "    end:   string appended after the last value, default a newline.\n",
      "    flush: whether to forcibly flush the stream.\n",
      "\n"
     ]
    }
   ],
   "source": [
    "# 查找函数帮助文档\n",
    "# 1.用help函数\n",
    "help(print)"
   ]
  },
  {
   "cell_type": "code",
   "execution_count": 40,
   "metadata": {},
   "outputs": [
    {
     "name": "stdout",
     "output_type": "stream",
     "text": [
      "Help on built-in function format in module builtins:\n",
      "\n",
      "format(value, format_spec='', /)\n",
      "    Return value.__format__(format_spec)\n",
      "    \n",
      "    format_spec defaults to the empty string.\n",
      "    See the Format Specification Mini-Language section of help('FORMATTING') for\n",
      "    details.\n",
      "\n"
     ]
    }
   ],
   "source": [
    "help(format)"
   ]
  },
  {
   "cell_type": "code",
   "execution_count": null,
   "metadata": {},
   "outputs": [],
   "source": [
    "python参考资料： headfirst python-->零基础入门学习python(小甲鱼)-->习题-->腾讯公开课"
   ]
  },
  {
   "cell_type": "markdown",
   "metadata": {},
   "source": [
    "## 参数详解\n",
    "- 参数分类\n",
    "    - 普通分类\n",
    "    - 默认参数\n",
    "    - 关键字参数\n",
    "    - 手机参数\n",
    "\n",
    "- 普通参数\n",
    "    - 参见上例\n",
    "    - 定义的时候直接定义变量名\n",
    "    - 调用的时候直接吧变量或者值放入指定位置\n",
    "    \n",
    "                    def 函数名（参数1，参数2，...）:\n",
    "                        函数体\n",
    "                        \n",
    "                    #调用\n",
    "                    函数名（value1，value2，....）\n",
    "                    \n",
    "                    #调用的时候吗，具体值参考的是位置，按位置赋值\n",
    "                    \n",
    "- 默认参数\n",
    "    - 形参带有默认值\n",
    "    - 调用的时候，如果没有对相应形参赋值，则使用默认值\n",
    "    \n",
    "                def func_name(p1=v1,p2=v2.....):\n",
    "                func_block\n",
    "                \n",
    "                #调用1\n",
    "                func_name()  #自动调用p1=v1,p2=v2.....\n",
    "                \n",
    "                #调用2\n",
    "                value1=100\n",
    "                value2=200\n",
    "                func_name(value1,value2)"
   ]
  },
  {
   "cell_type": "code",
   "execution_count": 96,
   "metadata": {},
   "outputs": [
    {
     "name": "stdout",
     "output_type": "stream",
     "text": [
      "王大锤 is 21 , and he is good\n",
      "DVA is 18 , and she is good\n"
     ]
    }
   ],
   "source": [
    "#默认参数例子\n",
    "#报名函数，需要知道学生性别\n",
    "def reg(name,age,gender=\"male\"):\n",
    "    if gender ==  \"male\":\n",
    "        print(\"{0} is {1} , and he is good\".format(name,age))\n",
    "    else:\n",
    "        print(\"{0} is {1} , and she is good\".format(name,age))\n",
    "        \n",
    "#调用\n",
    "\n",
    "reg(\"王大锤\",21)\n",
    "reg(\"DVA\",18,\"female\")\n"
   ]
  },
  {
   "cell_type": "code",
   "execution_count": null,
   "metadata": {},
   "outputs": [],
   "source": []
  }
 ],
 "metadata": {
  "kernelspec": {
   "display_name": "Python 3",
   "language": "python",
   "name": "python3"
  },
  "language_info": {
   "codemirror_mode": {
    "name": "ipython",
    "version": 3
   },
   "file_extension": ".py",
   "mimetype": "text/x-python",
   "name": "python",
   "nbconvert_exporter": "python",
   "pygments_lexer": "ipython3",
   "version": "3.7.1"
  }
 },
 "nbformat": 4,
 "nbformat_minor": 2
}
