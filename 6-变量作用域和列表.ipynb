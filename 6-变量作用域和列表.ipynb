{
 "cells": [
  {
   "cell_type": "markdown",
   "metadata": {},
   "source": [
    "# 变量作用域\n",
    "- 变量由作用范围限制\n",
    "- 分类：按照作用域分类\n",
    "    - 全局(global)：在函数外部定义\n",
    "    - 局部（local):在函数内部定义\n",
    "- 变量的作用范围：\n",
    "    - 全局变量：在整个全局范围都有效\n",
    "    - 全局变量在局部可以使用（即函数内部可以方位函数外部定义的变量）\n",
    "    - 局部变量在局部范围可以使用\n",
    "    - 局部变量在全局范围无法使用\n",
    "- LEGB原则\n",
    "    - L(local)局部作用域\n",
    "    - E(Enclosing function locale)外部嵌套函数作用域\n",
    "    - G(Global module)函数定义所在模块作用域\n",
    "    - B(Buildin):python内置模块的作用域\n",
    " "
   ]
  },
  {
   "cell_type": "code",
   "execution_count": 1,
   "metadata": {},
   "outputs": [
    {
     "ename": "NameError",
     "evalue": "name 'a1' is not defined",
     "output_type": "error",
     "traceback": [
      "\u001b[1;31m---------------------------------------------------------------------------\u001b[0m",
      "\u001b[1;31mNameError\u001b[0m                                 Traceback (most recent call last)",
      "\u001b[1;32m<ipython-input-1-d4f535aa7451>\u001b[0m in \u001b[0;36m<module>\u001b[1;34m\u001b[0m\n\u001b[0;32m      7\u001b[0m     \u001b[0ma2\u001b[0m \u001b[1;33m=\u001b[0m \u001b[1;36m99\u001b[0m  \u001b[1;31m#a2的作用域是fun\u001b[0m\u001b[1;33m\u001b[0m\u001b[1;33m\u001b[0m\u001b[0m\n\u001b[0;32m      8\u001b[0m     \u001b[0mprint\u001b[0m\u001b[1;33m(\u001b[0m\u001b[0ma2\u001b[0m\u001b[1;33m)\u001b[0m\u001b[1;33m\u001b[0m\u001b[1;33m\u001b[0m\u001b[0m\n\u001b[1;32m----> 9\u001b[1;33m \u001b[0mprint\u001b[0m\u001b[1;33m(\u001b[0m\u001b[0ma1\u001b[0m\u001b[1;33m)\u001b[0m\u001b[1;33m\u001b[0m\u001b[1;33m\u001b[0m\u001b[0m\n\u001b[0m\u001b[0;32m     10\u001b[0m \u001b[0mfun\u001b[0m\u001b[1;33m(\u001b[0m\u001b[1;33m)\u001b[0m\u001b[1;33m\u001b[0m\u001b[1;33m\u001b[0m\u001b[0m\n\u001b[0;32m     11\u001b[0m \u001b[0mprint\u001b[0m\u001b[1;33m(\u001b[0m\u001b[0ma2\u001b[0m\u001b[1;33m)\u001b[0m\u001b[1;33m\u001b[0m\u001b[1;33m\u001b[0m\u001b[0m\n",
      "\u001b[1;31mNameError\u001b[0m: name 'a1' is not defined"
     ]
    }
   ],
   "source": [
    "# a1是全局的\n",
    "al=100\n",
    "\n",
    "def fun():\n",
    "    print(a1)\n",
    "    print(\"i am in fun\")\n",
    "    a2 = 99  #a2的作用域是fun\n",
    "    print(a2)\n",
    "print(a1)\n",
    "fun()\n",
    "print(a2)"
   ]
  },
  {
   "cell_type": "markdown",
   "metadata": {},
   "source": [
    "## 提升变量为全局变量\n",
    "    - 使用global\n",
    "    - 案例如下"
   ]
  },
  {
   "cell_type": "code",
   "execution_count": 7,
   "metadata": {},
   "outputs": [
    {
     "ename": "SyntaxError",
     "evalue": "invalid syntax (<ipython-input-7-baef95ea3fed>, line 2)",
     "output_type": "error",
     "traceback": [
      "\u001b[1;36m  File \u001b[1;32m\"<ipython-input-7-baef95ea3fed>\"\u001b[1;36m, line \u001b[1;32m2\u001b[0m\n\u001b[1;33m    globals b1\u001b[0m\n\u001b[1;37m             ^\u001b[0m\n\u001b[1;31mSyntaxError\u001b[0m\u001b[1;31m:\u001b[0m invalid syntax\n"
     ]
    }
   ],
   "source": [
    "def fun():\n",
    "    globals b1\n",
    "    b1 = 100\n",
    "    print(b1)\n",
    "    print(\"i am in fun\")\n",
    "    # a2的作用范围是fun\n",
    "    b2 = 99\n",
    "    print(b2)\n",
    "\n",
    "print(b1)\n",
    "print(b2)\n",
    "fun()"
   ]
  },
  {
   "cell_type": "markdown",
   "metadata": {},
   "source": [
    "# globals,locals函数\n",
    "- 可以通过globals和locals显示出局部变量和全局变量\n",
    "- 参看以下案例"
   ]
  },
  {
   "cell_type": "code",
   "execution_count": 4,
   "metadata": {},
   "outputs": [
    {
     "name": "stdout",
     "output_type": "stream",
     "text": [
      "locals={'c': 100, 'd': 200, 'e': 111}\n",
      "globals={'__name__': '__main__', '__doc__': 'Automatically created module for IPython interactive environment', '__package__': None, '__loader__': None, '__spec__': None, '__builtin__': <module 'builtins' (built-in)>, '__builtins__': <module 'builtins' (built-in)>, '_ih': ['', '# a1是全局的\\nal=100\\n\\ndef fun():\\n    print(a1)\\n    print(\"i am in fun\")\\n    a2 = 99  #a2的作用域是fun\\n    print(a2)\\nprint(a1)\\nfun()\\nprint(a2)', 'def fun():\\n    global b1\\n    b1 = 100\\n    print(b1)\\n    print(\"i am in fun\")\\n    # a2的作用范围是fun\\n    b2 = 99\\n    print(b2)\\n\\nprint(b1)\\nprint(b2)', 'def fun():\\n    global b1\\n    b1 = 100\\n    print(b1)\\n    print(\"i am in fun\")\\n    # a2的作用范围是fun\\n    b2 = 99\\n    print(b2)\\n\\nprint(b1)\\nprint(b2)\\nfun()', '#globals 和 locals\\na = 1\\nb = 2\\n\\ndef fun(c,d):\\n    e=111\\n    print(\"locals={0}\".format(locals()))\\n    print(\"globals={0}\".format(globals()))\\n    \\nfun(100,200)\\n    '], '_oh': {}, '_dh': ['C:\\\\Users\\\\yyl96\\\\Python3\\\\语法基础'], 'In': ['', '# a1是全局的\\nal=100\\n\\ndef fun():\\n    print(a1)\\n    print(\"i am in fun\")\\n    a2 = 99  #a2的作用域是fun\\n    print(a2)\\nprint(a1)\\nfun()\\nprint(a2)', 'def fun():\\n    global b1\\n    b1 = 100\\n    print(b1)\\n    print(\"i am in fun\")\\n    # a2的作用范围是fun\\n    b2 = 99\\n    print(b2)\\n\\nprint(b1)\\nprint(b2)', 'def fun():\\n    global b1\\n    b1 = 100\\n    print(b1)\\n    print(\"i am in fun\")\\n    # a2的作用范围是fun\\n    b2 = 99\\n    print(b2)\\n\\nprint(b1)\\nprint(b2)\\nfun()', '#globals 和 locals\\na = 1\\nb = 2\\n\\ndef fun(c,d):\\n    e=111\\n    print(\"locals={0}\".format(locals()))\\n    print(\"globals={0}\".format(globals()))\\n    \\nfun(100,200)\\n    '], 'Out': {}, 'get_ipython': <bound method InteractiveShell.get_ipython of <ipykernel.zmqshell.ZMQInteractiveShell object at 0x000002B0E08C0A20>>, 'exit': <IPython.core.autocall.ZMQExitAutocall object at 0x000002B0E145DD30>, 'quit': <IPython.core.autocall.ZMQExitAutocall object at 0x000002B0E145DD30>, '_': '', '__': '', '___': '', '_i': 'def fun():\\n    global b1\\n    b1 = 100\\n    print(b1)\\n    print(\"i am in fun\")\\n    # a2的作用范围是fun\\n    b2 = 99\\n    print(b2)\\n\\nprint(b1)\\nprint(b2)\\nfun()', '_ii': 'def fun():\\n    global b1\\n    b1 = 100\\n    print(b1)\\n    print(\"i am in fun\")\\n    # a2的作用范围是fun\\n    b2 = 99\\n    print(b2)\\n\\nprint(b1)\\nprint(b2)', '_iii': '# a1是全局的\\nal=100\\n\\ndef fun():\\n    print(a1)\\n    print(\"i am in fun\")\\n    a2 = 99  #a2的作用域是fun\\n    print(a2)\\nprint(a1)\\nfun()\\nprint(a2)', '_i1': '# a1是全局的\\nal=100\\n\\ndef fun():\\n    print(a1)\\n    print(\"i am in fun\")\\n    a2 = 99  #a2的作用域是fun\\n    print(a2)\\nprint(a1)\\nfun()\\nprint(a2)', 'al': 100, 'fun': <function fun at 0x000002B0E15661E0>, '_i2': 'def fun():\\n    global b1\\n    b1 = 100\\n    print(b1)\\n    print(\"i am in fun\")\\n    # a2的作用范围是fun\\n    b2 = 99\\n    print(b2)\\n\\nprint(b1)\\nprint(b2)', '_i3': 'def fun():\\n    global b1\\n    b1 = 100\\n    print(b1)\\n    print(\"i am in fun\")\\n    # a2的作用范围是fun\\n    b2 = 99\\n    print(b2)\\n\\nprint(b1)\\nprint(b2)\\nfun()', '_i4': '#globals 和 locals\\na = 1\\nb = 2\\n\\ndef fun(c,d):\\n    e=111\\n    print(\"locals={0}\".format(locals()))\\n    print(\"globals={0}\".format(globals()))\\n    \\nfun(100,200)\\n    ', 'a': 1, 'b': 2}\n"
     ]
    }
   ],
   "source": [
    "#globals 和 locals\n",
    "#globals 和 locals叫\n",
    "a = 1\n",
    "b = 2\n",
    "\n",
    "def fun(c,d):\n",
    "    e=111\n",
    "    print(\"locals={0}\".format(locals()))\n",
    "    print(\"globals={0}\".format(globals()))\n",
    "    \n",
    "fun(100,200)\n",
    "    "
   ]
  },
  {
   "cell_type": "markdown",
   "metadata": {},
   "source": [
    "#eval()函数\n",
    "- 把有一个字符串当成一个表达式来执行，返回表达式执行后的结果\n",
    "- eval 重新运算求出参数的内容\n",
    "- 语法：\n",
    "\n",
    "               eval(string_code,globals=None,locals=None)"
   ]
  },
  {
   "cell_type": "code",
   "execution_count": 8,
   "metadata": {},
   "outputs": [
    {
     "name": "stdout",
     "output_type": "stream",
     "text": [
      "300\n",
      "300\n"
     ]
    }
   ],
   "source": [
    "x = 100\n",
    "y = 200\n",
    "# 执行x+y\n",
    "# z = x + y\n",
    "z1=x+y\n",
    "z2=eval(\"x+y\")  #x+y本来是字符串，用eval就把他当代码来执行\n",
    "\n",
    "print(z1)\n",
    "print(z2)"
   ]
  },
  {
   "cell_type": "markdown",
   "metadata": {},
   "source": [
    "# exec()函数\n",
    "- 跟eval()功能类似，但是不返回结果\n",
    "- 语法和eval一样\n",
    "- 不返回结果"
   ]
  },
  {
   "cell_type": "code",
   "execution_count": 9,
   "metadata": {},
   "outputs": [
    {
     "name": "stdout",
     "output_type": "stream",
     "text": [
      "300\n",
      "None\n"
     ]
    }
   ],
   "source": [
    "x = 100\n",
    "y = 200\n",
    "# 执行x+y\n",
    "# z = x + y\n",
    "z1=x+y\n",
    "z2=exec(\"x+y\")  \n",
    "\n",
    "print(z1)\n",
    "print(z2)"
   ]
  },
  {
   "cell_type": "code",
   "execution_count": 10,
   "metadata": {
    "scrolled": true
   },
   "outputs": [
    {
     "name": "stdout",
     "output_type": "stream",
     "text": [
      "x+y: x+y\n",
      "300\n",
      "None\n"
     ]
    }
   ],
   "source": [
    "x = 100\n",
    "y = 200\n",
    "# 执行x+y\n",
    "# z = x + y\n",
    "z1=x+y\n",
    "#1.注意字符串中引号的写法\n",
    "#2.对比exec执行结果和代码执行结果\n",
    "z2=exec(\"print('x+y:',x+y)\")  \n",
    "\n",
    "print(z1)\n",
    "print(z2)"
   ]
  },
  {
   "cell_type": "markdown",
   "metadata": {},
   "source": [
    "# 递归函数\n",
    "- 函数直接或间接调用自己\n",
    "- 优点：简洁，容易理解\n",
    "- 缺点：对递归深度由限制，消耗资源大\n",
    "- python对递归深度有限制，超过限制报错"
   ]
  },
  {
   "cell_type": "code",
   "execution_count": null,
   "metadata": {},
   "outputs": [],
   "source": []
  },
  {
   "cell_type": "code",
   "execution_count": null,
   "metadata": {},
   "outputs": [],
   "source": []
  },
  {
   "cell_type": "code",
   "execution_count": null,
   "metadata": {},
   "outputs": [],
   "source": []
  },
  {
   "cell_type": "code",
   "execution_count": null,
   "metadata": {},
   "outputs": [],
   "source": []
  },
  {
   "cell_type": "code",
   "execution_count": null,
   "metadata": {},
   "outputs": [],
   "source": []
  },
  {
   "cell_type": "code",
   "execution_count": null,
   "metadata": {},
   "outputs": [],
   "source": []
  },
  {
   "cell_type": "code",
   "execution_count": null,
   "metadata": {},
   "outputs": [],
   "source": []
  },
  {
   "cell_type": "code",
   "execution_count": null,
   "metadata": {},
   "outputs": [],
   "source": []
  },
  {
   "cell_type": "code",
   "execution_count": null,
   "metadata": {},
   "outputs": [],
   "source": []
  }
 ],
 "metadata": {
  "kernelspec": {
   "display_name": "Python 3",
   "language": "python",
   "name": "python3"
  },
  "language_info": {
   "codemirror_mode": {
    "name": "ipython",
    "version": 3
   },
   "file_extension": ".py",
   "mimetype": "text/x-python",
   "name": "python",
   "nbconvert_exporter": "python",
   "pygments_lexer": "ipython3",
   "version": "3.7.1"
  }
 },
 "nbformat": 4,
 "nbformat_minor": 2
}
