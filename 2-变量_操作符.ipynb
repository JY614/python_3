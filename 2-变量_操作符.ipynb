{
 "cells": [
  {
   "cell_type": "markdown",
   "metadata": {},
   "source": [
    "# 字符串\n",
    "- 转义字符\n",
    "- 格式化\n",
    "- 内建函数（后延）\n"
   ]
  },
  {
   "cell_type": "markdown",
   "metadata": {},
   "source": [
    "## 转义字符\n",
    "- 用一个特殊的方法表示出一系列不方便写出的内容，比如回车，换行，退格\n",
    "- 借助反斜杠，一旦字符串中出现反斜杠，则反斜杠后米娜的几个字符表示已经不是原来的意思了，进行了转义\n",
    "- 字符串中一旦出现 \\  ,注意是否转义\n",
    "- 不同系统对换行操作有不同的表示"
   ]
  },
  {
   "cell_type": "code",
   "execution_count": 1,
   "metadata": {},
   "outputs": [
    {
     "name": "stdout",
     "output_type": "stream",
     "text": [
      "i love wangdachui\n"
     ]
    }
   ],
   "source": [
    "s = \"i love wangdachui\"\n",
    "print (s)"
   ]
  },
  {
   "cell_type": "code",
   "execution_count": 23,
   "metadata": {},
   "outputs": [
    {
     "name": "stdout",
     "output_type": "stream",
     "text": [
      "Let's go\n",
      "Let's go\n",
      "c:\\user\n",
      "hi \r\n",
      "wangdachui \n"
     ]
    }
   ],
   "source": [
    "#如果想表示出Let's go来\n",
    "#1.可以用嵌套引号，即外层使用双引号\n",
    "#2.转义字符\n",
    "\n",
    "s=\"Let's go\"\n",
    "print(s)\n",
    "\n",
    "ss='Let\\'s go'   \n",
    "print(ss)\n",
    "\n",
    "\n",
    "# sss=\"c:\\user\"    #计算机认为 \\u 表示其他意思\n",
    "# \\\\=\\  ,转义\n",
    "sss =\"c:\\\\user\"  \n",
    "print (sss)\n",
    "\n",
    "#回车换行  \\r\\n\n",
    "s1= \"hi \\r\\nwangdachui \"\n",
    "print (s1)"
   ]
  },
  {
   "cell_type": "markdown",
   "metadata": {},
   "source": [
    "## 字符串的格式化\n",
    "- 把字符串按照一定格式打印或者填充\n",
    "- 格式化由两种方法\n",
    "    -  百分号%\n",
    "    - 利用 format 函数"
   ]
  },
  {
   "cell_type": "code",
   "execution_count": null,
   "metadata": {},
   "outputs": [],
   "source": [
    "S = \"王大锤 hi sb \" "
   ]
  },
  {
   "cell_type": "markdown",
   "metadata": {},
   "source": [
    "### 利用百分号格式化\n",
    "- 在字符串中，利用%表示一个特殊的含义，表示对字符进行格式化\n",
    "- %d: 此处应放入一个整数\n",
    "- %s: 表示此处应该放入一个字符串"
   ]
  },
  {
   "cell_type": "code",
   "execution_count": 26,
   "metadata": {},
   "outputs": [
    {
     "name": "stdout",
     "output_type": "stream",
     "text": [
      " 王大锤 love 狗 %s\n"
     ]
    }
   ],
   "source": [
    "# %s\n",
    "s=\" 王大锤 love 狗 %s\"\n",
    "#直接打印 %s\n",
    "print(s)"
   ]
  },
  {
   "cell_type": "code",
   "execution_count": 28,
   "metadata": {},
   "outputs": [
    {
     "name": "stdout",
     "output_type": "stream",
     "text": [
      "王大锤 love 狗逼\n",
      " 王大锤 love 狗 狗逼\n"
     ]
    }
   ],
   "source": [
    "print(\"王大锤 love %s\"% \"狗逼\") # %s用后面的东西替换掉了\n",
    "print(s%\"狗逼\") # %s被替换掉了 "
   ]
  },
  {
   "cell_type": "code",
   "execution_count": 34,
   "metadata": {},
   "outputs": [
    {
     "name": "stdout",
     "output_type": "stream",
     "text": [
      "i am %d years old\n",
      "i am 18 years old\n",
      "i am 王大锤 ,i  am 18 years old\n"
     ]
    }
   ],
   "source": [
    "# %d\n",
    "s = \"i am %d years old\"\n",
    "d = \"i am %s ,i  am %d years old\"\n",
    "print (s)\n",
    "print (s%18)\n",
    "print (d%(\"王大锤\",18))  #注意这里的语法"
   ]
  },
  {
   "cell_type": "markdown",
   "metadata": {},
   "source": [
    " ### format函数格式化\n",
    "- 直接用format函数格式化\n",
    "- 推荐用这种方法\n",
    "- 在使用上，以 {} 和 ：代替 % ，后面用format带参数完成"
   ]
  },
  {
   "cell_type": "code",
   "execution_count": 37,
   "metadata": {},
   "outputs": [
    {
     "name": "stdout",
     "output_type": "stream",
     "text": [
      "王大锤 love 狗逼\n",
      "Yes,王大锤 is 18 years old , and love 狗逼,who is 18years old \n"
     ]
    }
   ],
   "source": [
    "s= \"王大锤 love {}\". format(\"狗逼\")\n",
    "print(s)\n",
    "#{}里的数字表示编号，表示0号，1号\n",
    "s=\"Yes,王大锤 is {1} years old , and love {0},who is {1}years old \".format(\"狗逼\",18)\n",
    "print (s)\n"
   ]
  },
  {
   "cell_type": "markdown",
   "metadata": {},
   "source": [
    "## None\n",
    "- 表示什么都没有\n",
    "- 如果函数没有返回值，何以返回None\n",
    "- 用来占位置\n",
    "- 用来解除变量绑定"
   ]
  },
  {
   "cell_type": "markdown",
   "metadata": {},
   "source": [
    "# 表达式\n",
    "- 有一个或者几个数字或者变量和运算符组合成的一行代码\n",
    "- 通常会返回一个结果  之前的例子都是表达式\n",
    "\n",
    "# 运算符\n",
    "- 由一个以上的值经过变化得到新值的过程就叫运算\n",
    "- 用于运算的符号叫运算符\n",
    "- 运算符分类：\n",
    "    - 算数运算符\n",
    "    - 比较运算符（关系运算符）\n",
    "    - 赋值运算符\n",
    "    - 逻辑运算符\n",
    "    - 位 运算 （二进制），用的比较少\n",
    "    - 成员运算符\n",
    "    - 身份运算符\n",
    "    "
   ]
  },
  {
   "cell_type": "markdown",
   "metadata": {},
   "source": [
    "## 算数运算符\n",
    "    -进行算数运算的符号\n",
    "    -! python 没有自增运算符"
   ]
  },
  {
   "cell_type": "code",
   "execution_count": 45,
   "metadata": {},
   "outputs": [
    {
     "name": "stdout",
     "output_type": "stream",
     "text": [
      "2\n",
      "6561\n"
     ]
    }
   ],
   "source": [
    "# + - * / 和正常运算一样\n",
    "# % 取余运算 只得余数\n",
    "# // 取整运算，也叫地板除\n",
    "\n",
    "k = 9 // 4\n",
    "print(k)\n",
    "\n",
    "#** 幂运算\n",
    "\n",
    "a =  9**4 \n",
    "print(a)\n",
    "\n"
   ]
  },
  {
   "cell_type": "markdown",
   "metadata": {},
   "source": [
    "## 比较运算符\n",
    "- 两个 变量 或者 值 进行比较的运算符\n",
    "- 比较的结果是bool值 即True/False"
   ]
  },
  {
   "cell_type": "code",
   "execution_count": 51,
   "metadata": {},
   "outputs": [
    {
     "name": "stdout",
     "output_type": "stream",
     "text": [
      "False\n",
      "True\n"
     ]
    }
   ],
   "source": [
    "# ==  等于号\n",
    "a=3**4\n",
    "b=a==80\n",
    "#执行顺序为\n",
    "#1. 计算a==80 \n",
    "#2.把记过放入b中\n",
    "print (b)\n",
    "#结果为 False\n",
    "\n",
    "\n",
    "# ！= 不等于\n",
    "print(9 != 8)\n",
    "\n",
    "\n",
    "# >\n",
    "# <\n",
    "# >=\n",
    "# <="
   ]
  },
  {
   "cell_type": "markdown",
   "metadata": {},
   "source": [
    "## 赋值运算符\n",
    "     "
   ]
  },
  {
   "cell_type": "code",
   "execution_count": null,
   "metadata": {},
   "outputs": [],
   "source": [
    "# = 赋值\n",
    "a=0 \n",
    "print a\n",
    "\n",
    "# += -=   *=  /=  **= %= //= （缩写）\n",
    "#所有运算符都有缩写形式\n",
    "a+=7  # a=a+7\n"
   ]
  },
  {
   "cell_type": "markdown",
   "metadata": {},
   "source": [
    "## 逻辑运算符\n",
    "- 对bool值进行计算的符号\n",
    "- and 逻辑与\n",
    "- or 逻辑或\n",
    "- not 逻辑非\n",
    "- python中逻辑运算 没有 异或 运算\n",
    "- 运算规则：\n",
    "    - and 看作乘法   or 看作加法\n",
    "    - True看作1      False看作0\n",
    "    - 则逻辑运算就能转换成整数数学运算\n",
    "    - 最后结果如果是0 则为False ，否则为True\n",
    "- 逻辑运算的短路问题\n",
    "    - 逻辑运算式，按照运算顺序计算，一旦能够确定整个式子的值，则不再进行计算，直接返回"
   ]
  },
  {
   "cell_type": "code",
   "execution_count": 52,
   "metadata": {},
   "outputs": [
    {
     "name": "stdout",
     "output_type": "stream",
     "text": [
      "True\n"
     ]
    }
   ],
   "source": [
    "# 逻辑运算符案例\n",
    "a=True\n",
    "b=False\n",
    "c=True\n",
    "\n",
    "#下式等价于 d=1*0+1\n",
    "d=a and b or c\n",
    "print (d)\n",
    "\n"
   ]
  },
  {
   "cell_type": "code",
   "execution_count": 55,
   "metadata": {},
   "outputs": [
    {
     "name": "stdout",
     "output_type": "stream",
     "text": [
      "True\n"
     ]
    }
   ],
   "source": [
    "# d=1+0*1\n",
    "d=a or b and a\n",
    "print(d)"
   ]
  },
  {
   "cell_type": "code",
   "execution_count": 57,
   "metadata": {},
   "outputs": [],
   "source": [
    "# 逻辑运算的短路案例\n",
    "\n",
    "#下面的逻辑表达式，a的值一定是True,则运行到or的时候，整个表达式不在向下计算\n",
    "a=True or 6# 后面随便是什么都是True   \n",
    "\n",
    "\n",
    "\n"
   ]
  },
  {
   "cell_type": "markdown",
   "metadata": {},
   "source": [
    "## 成员运算符\n",
    "- 用来检测某一个变量是否是另一个变量的成员\n",
    "- in\n",
    "- not in\n"
   ]
  },
  {
   "cell_type": "code",
   "execution_count": 60,
   "metadata": {},
   "outputs": [
    {
     "name": "stdout",
     "output_type": "stream",
     "text": [
      "False\n",
      "True\n",
      "False\n"
     ]
    }
   ],
   "source": [
    "# 成员运算符案例\n",
    "L=[1,2,3,4,5]\n",
    "a=7\n",
    "\n",
    "b=a in L\n",
    "print(b)\n",
    "\n",
    "a=4 \n",
    "b=a in L\n",
    "print(b)\n",
    "\n",
    "a=5\n",
    "b=a not in L\n",
    "print(b)"
   ]
  },
  {
   "cell_type": "markdown",
   "metadata": {},
   "source": [
    "## 身份运算符\n",
    "- is ：用来检测两个变量是否是同一个变量\n",
    "    -语法：var1 is var2 \n",
    "- is not:两个变量不是同一个变量\n"
   ]
  },
  {
   "cell_type": "code",
   "execution_count": 61,
   "metadata": {},
   "outputs": [
    {
     "name": "stdout",
     "output_type": "stream",
     "text": [
      "True\n"
     ]
    }
   ],
   "source": [
    "#例\n",
    "a=9 \n",
    "b=9\n",
    "print(a is b)\n"
   ]
  },
  {
   "cell_type": "markdown",
   "metadata": {},
   "source": [
    "## 运算符优先级\n",
    "- 永远记住，括号拥有最高优先级\n",
    "       - 算术运算符\n",
    "           - **（最高优先级）\n",
    "        \n",
    "       - 比较（关系）运算符\n",
    "       - 赋值运算符\n",
    "       - 逻辑运算符\n",
    "       - 位运算符\n",
    "       - 成员运算符\n",
    "       - 身份运算符\n",
    "       "
   ]
  },
  {
   "cell_type": "markdown",
   "metadata": {},
   "source": [
    "# 位运算\n",
    "- 位运算符是把数字看作二进制来进行计算的\n",
    "a=0111 b=1010\n",
    "\n",
    "按位与a&b      0010   输出2\n",
    "按位或a|b        1111   输出15\n",
    "按位异或a^b    1101   输出13\n",
    "按位取反~a      1000   输出8\n",
    "左移a<<2          1100   输出12\n",
    "右移a>>2          0001   输出1"
   ]
  },
  {
   "cell_type": "markdown",
   "metadata": {},
   "source": []
  }
 ],
 "metadata": {
  "kernelspec": {
   "display_name": "Python 3",
   "language": "python",
   "name": "python3"
  },
  "language_info": {
   "codemirror_mode": {
    "name": "ipython",
    "version": 3
   },
   "file_extension": ".py",
   "mimetype": "text/x-python",
   "name": "python",
   "nbconvert_exporter": "python",
   "pygments_lexer": "ipython3",
   "version": "3.7.1"
  }
 },
 "nbformat": 4,
 "nbformat_minor": 2
}
