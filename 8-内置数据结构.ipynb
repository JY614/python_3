{
 "cells": [
  {
   "cell_type": "markdown",
   "metadata": {},
   "source": [
    "# # 汉诺塔\n"
   ]
  },
  {
   "cell_type": "code",
   "execution_count": 11,
   "metadata": {},
   "outputs": [
    {
     "name": "stdout",
     "output_type": "stream",
     "text": [
      "A --> C\n",
      "A --> B\n",
      "C --> B\n",
      "A --> C\n",
      "B --> A\n",
      "B --> C\n",
      "A --> C\n"
     ]
    }
   ],
   "source": [
    "def hanno(n,a,b,c):\n",
    "    '''\n",
    "    n表示几个盘子\n",
    "    a ,b,c分别表示第一第二第三个柱子\n",
    "    '''\n",
    "    if n==1:\n",
    "        print(a,\"-->\",c)\n",
    "    if n == 2:\n",
    "        print(a,\"-->\",b)\n",
    "        print(a,\"-->\",c)\n",
    "        print(b,\"-->\",c)\n",
    "        return None\n",
    "    #把n-1个盘子，从a塔借助于c塔，挪到b塔上去\n",
    "\n",
    "    hanno(n-1,a,c,b) \n",
    "    print(a,\"-->\",c)\n",
    "    # 把n-1个盘子从b塔借助于a塔，挪到c塔山去\n",
    "    hanno(n-1,b,a,c)\n",
    "    \n",
    "a=\"A\"\n",
    "b=\"B\"\n",
    "c=\"C\"\n",
    "hanno(3,a,b,c)"
   ]
  },
  {
   "cell_type": "code",
   "execution_count": 12,
   "metadata": {},
   "outputs": [
    {
     "name": "stdout",
     "output_type": "stream",
     "text": [
      "A --> C\n",
      "A --> B\n",
      "C --> B\n",
      "A --> C\n",
      "B --> A\n",
      "B --> C\n",
      "A --> C\n",
      "A --> B\n",
      "C --> B\n",
      "C --> A\n",
      "B --> A\n",
      "C --> B\n",
      "A --> C\n",
      "A --> B\n",
      "C --> B\n",
      "A --> C\n",
      "B --> A\n",
      "B --> C\n",
      "A --> C\n",
      "B --> A\n",
      "C --> B\n",
      "C --> A\n",
      "B --> A\n",
      "B --> C\n",
      "A --> C\n",
      "A --> B\n",
      "C --> B\n",
      "A --> C\n",
      "B --> A\n",
      "B --> C\n",
      "A --> C\n"
     ]
    }
   ],
   "source": [
    "hanno(5,a,b,c)"
   ]
  },
  {
   "cell_type": "markdown",
   "metadata": {},
   "source": [
    "# List(列表) \n",
    "- 其他语言里叫做数组\n",
    "- del 删除"
   ]
  },
  {
   "cell_type": "code",
   "execution_count": 14,
   "metadata": {},
   "outputs": [
    {
     "name": "stdout",
     "output_type": "stream",
     "text": [
      "[1, 2, 3, 4, 5, 6]\n",
      "3132633238536\n",
      "[1, 2, 4, 5, 6]\n",
      "3132633238536\n"
     ]
    }
   ],
   "source": [
    "#del 删除\n",
    "a=[1,2,3,4,5,6]\n",
    "print(a)\n",
    "print(id(a))\n",
    "del a[2] \n",
    "print(a)\n",
    "print(id(a))\n",
    "#del不会改变id"
   ]
  },
  {
   "cell_type": "code",
   "execution_count": 16,
   "metadata": {},
   "outputs": [
    {
     "ename": "NameError",
     "evalue": "name 'a' is not defined",
     "output_type": "error",
     "traceback": [
      "\u001b[1;31m---------------------------------------------------------------------------\u001b[0m",
      "\u001b[1;31mNameError\u001b[0m                                 Traceback (most recent call last)",
      "\u001b[1;32m<ipython-input-16-6a9b8a3d8df8>\u001b[0m in \u001b[0;36m<module>\u001b[1;34m()\u001b[0m\n\u001b[1;32m----> 1\u001b[1;33m \u001b[1;32mdel\u001b[0m \u001b[0ma\u001b[0m\u001b[1;33m\u001b[0m\u001b[0m\n\u001b[0m\u001b[0;32m      2\u001b[0m \u001b[0mprint\u001b[0m \u001b[1;33m(\u001b[0m\u001b[0ma\u001b[0m\u001b[1;33m)\u001b[0m\u001b[1;33m\u001b[0m\u001b[0m\n",
      "\u001b[1;31mNameError\u001b[0m: name 'a' is not defined"
     ]
    }
   ],
   "source": [
    "#del 会彻底删除\n",
    "del a\n",
    "print (a)"
   ]
  },
  {
   "cell_type": "markdown",
   "metadata": {},
   "source": [
    "### 列表相加\n",
    "- 使用 + 连接两个列表\n",
    "- *\n",
    "- in  /   not in"
   ]
  },
  {
   "cell_type": "code",
   "execution_count": 20,
   "metadata": {},
   "outputs": [
    {
     "name": "stdout",
     "output_type": "stream",
     "text": [
      "[1, 2, 3, 4, 5, 6, 7, 8, 9, 10, 'x', 'y']\n",
      "['x', 'y']\n"
     ]
    }
   ],
   "source": [
    "a = [1,2,3,4,5]\n",
    "b = [6,7,8,9,10]\n",
    "d = ['x','y']\n",
    "c=  a + b + d\n",
    "print(c)"
   ]
  },
  {
   "cell_type": "code",
   "execution_count": 21,
   "metadata": {},
   "outputs": [
    {
     "name": "stdout",
     "output_type": "stream",
     "text": [
      "[1, 2, 3, 4, 5, 1, 2, 3, 4, 5, 1, 2, 3, 4, 5]\n"
     ]
    }
   ],
   "source": [
    "#使用乘号操作列表\n",
    "#列表直接跟一个整数相乘\n",
    "#相当于把n个列表接在一起\n",
    "# !!!!!不是里面元素乘以3\n",
    "a = [1,2,3,4,5]\n",
    "b = a*3\n",
    "print(b)"
   ]
  },
  {
   "cell_type": "code",
   "execution_count": 24,
   "metadata": {},
   "outputs": [
    {
     "name": "stdout",
     "output_type": "stream",
     "text": [
      "False\n",
      "True\n"
     ]
    }
   ],
   "source": [
    "# 成员资格运算\n",
    "#就是判断一个元素是否在list里面\n",
    "a = [1,2,3,4,5,6]\n",
    "b = 8\n",
    "\n",
    "#c是一个bool值\n",
    "c = b in a\n",
    "print(c)\n",
    "\n",
    "b=4 \n",
    "print(b in a)"
   ]
  },
  {
   "cell_type": "code",
   "execution_count": 26,
   "metadata": {},
   "outputs": [
    {
     "name": "stdout",
     "output_type": "stream",
     "text": [
      "False\n",
      "True\n"
     ]
    }
   ],
   "source": [
    "# not in\n",
    "a = [1,2,3,4,5]\n",
    "b=3\n",
    "print (b not in a)\n",
    "b=28\n",
    "print (b not in a)"
   ]
  },
  {
   "cell_type": "markdown",
   "metadata": {},
   "source": [
    "# 链表的遍历\n",
    "- 挨个访问元素\n",
    "- for \n",
    "- while"
   ]
  },
  {
   "cell_type": "code",
   "execution_count": 28,
   "metadata": {},
   "outputs": [
    {
     "name": "stdout",
     "output_type": "stream",
     "text": [
      "1\n",
      "2\n",
      "3\n",
      "4\n",
      "5\n"
     ]
    }
   ],
   "source": [
    "# for in list\n",
    "a = [1,2,3,4,5]\n",
    "\n",
    "# 挨个打印元素\n",
    "for i in a:\n",
    "    print(i)"
   ]
  },
  {
   "cell_type": "code",
   "execution_count": 29,
   "metadata": {},
   "outputs": [
    {
     "name": "stdout",
     "output_type": "stream",
     "text": [
      "呵呵\n"
     ]
    }
   ],
   "source": [
    "a = [\"呵呵\"]\n",
    "#单个元素（如字符串）\n",
    "# 挨个打印元素\n",
    "for i in a:\n",
    "    print(i)"
   ]
  },
  {
   "cell_type": "code",
   "execution_count": 33,
   "metadata": {},
   "outputs": [
    {
     "name": "stdout",
     "output_type": "stream",
     "text": [
      "1\n",
      "2\n",
      "3\n",
      "4\n",
      "5\n",
      "6\n",
      "7\n",
      "8\n",
      "9\n",
      "<class 'range'>\n"
     ]
    }
   ],
   "source": [
    "# range\n",
    "for i in range(1,10):\n",
    "    print(i)\n",
    "print(type (range(1,10)))"
   ]
  },
  {
   "cell_type": "code",
   "execution_count": 35,
   "metadata": {},
   "outputs": [
    {
     "name": "stdout",
     "output_type": "stream",
     "text": [
      "1\n",
      "2\n",
      "3\n",
      "4\n",
      "5\n",
      "6\n",
      "7\n",
      "8\n",
      "9\n"
     ]
    }
   ],
   "source": [
    "#  while 循环访问List\n",
    "# 一般情况不用while遍历list\n",
    "# 很麻烦\n",
    "\n",
    "a = [1,2,3,4,5,6,7,8,9]\n",
    "length = len(a)\n",
    "# indx 表示list的下标\n",
    "indx = 0\n",
    "while indx < length:\n",
    "    print(a[indx])     \n",
    "    indx += 1"
   ]
  },
  {
   "cell_type": "code",
   "execution_count": 36,
   "metadata": {},
   "outputs": [
    {
     "name": "stdout",
     "output_type": "stream",
     "text": [
      "one -- 1\n",
      "two -- 2\n",
      "three -- 3\n"
     ]
    }
   ],
   "source": [
    "# 双层列表循环\n",
    "# 列表里套列表\n",
    "a = [[\"one\",1],[\"two\",2],[\"three\",3]]\n",
    "\n",
    "for k,v in a :\n",
    "    print (k,\"--\",v)"
   ]
  },
  {
   "cell_type": "code",
   "execution_count": 39,
   "metadata": {},
   "outputs": [
    {
     "name": "stdout",
     "output_type": "stream",
     "text": [
      "one -- 1\n",
      "two -- 2\n"
     ]
    },
    {
     "ename": "ValueError",
     "evalue": "too many values to unpack (expected 2)",
     "output_type": "error",
     "traceback": [
      "\u001b[1;31m---------------------------------------------------------------------------\u001b[0m",
      "\u001b[1;31mValueError\u001b[0m                                Traceback (most recent call last)",
      "\u001b[1;32m<ipython-input-39-0dc1288634f6>\u001b[0m in \u001b[0;36m<module>\u001b[1;34m()\u001b[0m\n\u001b[0;32m      1\u001b[0m \u001b[0ma\u001b[0m \u001b[1;33m=\u001b[0m \u001b[1;33m[\u001b[0m\u001b[1;33m[\u001b[0m\u001b[1;34m\"one\"\u001b[0m\u001b[1;33m,\u001b[0m\u001b[1;36m1\u001b[0m\u001b[1;33m]\u001b[0m\u001b[1;33m,\u001b[0m\u001b[1;33m[\u001b[0m\u001b[1;34m\"two\"\u001b[0m\u001b[1;33m,\u001b[0m\u001b[1;36m2\u001b[0m\u001b[1;33m]\u001b[0m\u001b[1;33m,\u001b[0m\u001b[1;33m[\u001b[0m\u001b[1;34m\"three\"\u001b[0m\u001b[1;33m,\u001b[0m\u001b[1;36m3\u001b[0m\u001b[1;33m,\u001b[0m\u001b[1;36m55555\u001b[0m\u001b[1;33m]\u001b[0m\u001b[1;33m]\u001b[0m\u001b[1;33m\u001b[0m\u001b[0m\n\u001b[0;32m      2\u001b[0m \u001b[1;33m\u001b[0m\u001b[0m\n\u001b[1;32m----> 3\u001b[1;33m \u001b[1;32mfor\u001b[0m \u001b[0mk\u001b[0m\u001b[1;33m,\u001b[0m\u001b[0mv\u001b[0m \u001b[1;32min\u001b[0m \u001b[0ma\u001b[0m\u001b[1;33m:\u001b[0m\u001b[1;33m\u001b[0m\u001b[0m\n\u001b[0m\u001b[0;32m      4\u001b[0m     \u001b[0mprint\u001b[0m\u001b[1;33m(\u001b[0m\u001b[0mk\u001b[0m\u001b[1;33m,\u001b[0m\u001b[1;34m\"--\"\u001b[0m\u001b[1;33m,\u001b[0m\u001b[0mv\u001b[0m\u001b[1;33m)\u001b[0m\u001b[1;33m\u001b[0m\u001b[0m\n",
      "\u001b[1;31mValueError\u001b[0m: too many values to unpack (expected 2)"
     ]
    }
   ],
   "source": [
    "#数量不匹配报错\n",
    "a = [[\"one\",1],[\"two\",2],[\"three\",3,55555]]\n",
    "\n",
    "for k,v in a:\n",
    "    print(k,\"--\",v)"
   ]
  },
  {
   "cell_type": "code",
   "execution_count": 43,
   "metadata": {},
   "outputs": [
    {
     "name": "stdout",
     "output_type": "stream",
     "text": [
      "one -- 1 -- 66666\n",
      "two -- 2 -- 8888888\n",
      "three -- 3 -- 55555\n"
     ]
    }
   ],
   "source": [
    "# 双层链表变异\n",
    "# k,v,w 个数匹配\n",
    "a = [[\"one\",1,66666],[\"two\",2,8888888],[\"three\",3,55555]]\n",
    "\n",
    "for k,v,w in a:\n",
    "    print(k,\"--\",v,\"--\",w)"
   ]
  },
  {
   "cell_type": "markdown",
   "metadata": {},
   "source": [
    "# 列表内涵：list content\n",
    "- 通过简单方法创建列表"
   ]
  },
  {
   "cell_type": "code",
   "execution_count": 44,
   "metadata": {},
   "outputs": [
    {
     "name": "stdout",
     "output_type": "stream",
     "text": [
      "['a', 'b', 'c']\n"
     ]
    }
   ],
   "source": [
    "# for 创建\n",
    "a=[\"a\",\"b\",\"c\"]\n",
    "#用list a创建list b\n",
    "#下面代码的含义是对于所有a中的元素，逐个放入b中\n",
    "b = [i for i in a]\n",
    "print(b)"
   ]
  },
  {
   "cell_type": "code",
   "execution_count": 45,
   "metadata": {},
   "outputs": [
    {
     "name": "stdout",
     "output_type": "stream",
     "text": [
      "['aaaaaaaaaa', 'bbbbbbbbbb', 'cccccccccc']\n"
     ]
    }
   ],
   "source": [
    "#对于a中所有元素乘以10，生成一个新list\n",
    "a=[\"a\",\"b\",\"c\"]\n",
    "#用list a创建list b\n",
    "#下面代码的含义是对于所有a中的元素，逐个放入b中\n",
    "b = [i*10 for i in a]\n",
    "print(b)"
   ]
  },
  {
   "cell_type": "code",
   "execution_count": 48,
   "metadata": {},
   "outputs": [
    {
     "name": "stdout",
     "output_type": "stream",
     "text": [
      "[10, 20, 30]\n"
     ]
    }
   ],
   "source": [
    "#对于a中所有元素乘以10，生成一个新list\n",
    "a=[1,2,3]\n",
    "#用list a创建list b\n",
    "#下面代码的含义是对于所有a中的元素，逐个放入b中\n",
    "b = [i*10 for i in a]\n",
    "print(b)"
   ]
  },
  {
   "cell_type": "code",
   "execution_count": 50,
   "metadata": {},
   "outputs": [
    {
     "name": "stdout",
     "output_type": "stream",
     "text": [
      "[2, 4, 6, 8, 10, 12, 14, 16, 18, 20, 22, 24, 26, 28, 30, 32, 34]\n"
     ]
    }
   ],
   "source": [
    "# 还可以过滤原来list中的内容，放入新列表\n",
    "# 比如原有列表a，需要把所有a中的偶数生成新的列表b\n",
    "a = [a for a in range(1,35)] #生成1到34的列表\n",
    "b = [m for m in a if m%2 == 0]   #取偶数\n",
    "print(b)"
   ]
  },
  {
   "cell_type": "code",
   "execution_count": 55,
   "metadata": {},
   "outputs": [
    {
     "name": "stdout",
     "output_type": "stream",
     "text": [
      "[1, 2, 3, 4, 5]\n",
      "[100, 200, 300, 400, 500]\n",
      "[101, 201, 301, 401, 501, 102, 202, 302, 402, 502, 103, 203, 303, 403, 503, 104, 204, 304, 404, 504, 105, 205, 305, 405, 505]\n"
     ]
    }
   ],
   "source": [
    "# 列表生成式也可以嵌套\n",
    "# 有两个列表 a,b\n",
    "a = [i for i in range(1,6)]\n",
    "print(a)\n",
    "\n",
    "b= [i for i in range(100,600) if i%100 == 0]\n",
    "print(b)\n",
    "\n",
    "# 列表嵌套\n",
    "c = [m+n for m in a for n in b]    #a里每一个元素分别加b里每一个元素\n",
    "print (c)"
   ]
  },
  {
   "cell_type": "code",
   "execution_count": 57,
   "metadata": {},
   "outputs": [
    {
     "name": "stdout",
     "output_type": "stream",
     "text": [
      "101  201  301  401  501  102  202  302  402  502  103  203  303  403  503  104  204  304  404  504  105  205  305  405  505  "
     ]
    }
   ],
   "source": [
    "#列表嵌套也可以用条件表达式\n",
    "for m in a: \n",
    "    for n in b:\n",
    "        print(m+n,end=\"  \")\n"
   ]
  },
  {
   "cell_type": "code",
   "execution_count": 59,
   "metadata": {},
   "outputs": [
    {
     "name": "stdout",
     "output_type": "stream",
     "text": [
      "[101, 201, 102, 202, 103, 203, 104, 204, 105, 205]\n"
     ]
    }
   ],
   "source": [
    "#嵌套列表也可以用条件表达式\n",
    "c = [m+n for m in a for n in b if m+n < 300]\n",
    "print(c)"
   ]
  },
  {
   "cell_type": "markdown",
   "metadata": {},
   "source": [
    "# 关于列表的常用函数\n"
   ]
  },
  {
   "cell_type": "code",
   "execution_count": 60,
   "metadata": {},
   "outputs": [
    {
     "name": "stdout",
     "output_type": "stream",
     "text": [
      "100\n"
     ]
    }
   ],
   "source": [
    "# len: 求长度\n",
    "a = [x for x in range(1,101)]\n",
    "print (len(a))"
   ]
  },
  {
   "cell_type": "code",
   "execution_count": 69,
   "metadata": {},
   "outputs": [
    {
     "name": "stdout",
     "output_type": "stream",
     "text": [
      "100\n",
      "1\n",
      "sssssssss\n",
      "aaaa\n"
     ]
    }
   ],
   "source": [
    "# max 最大值   /min最小值 \n",
    "a = [x for x in range(1,101)]\n",
    "print(max(a))\n",
    "print(min(a))\n",
    "\n",
    "b = [\"aaaa\",\"sssssssss\",\"kkkkkkkkkkkkkk\"]\n",
    "print(max(b))\n",
    "print(min(b))"
   ]
  },
  {
   "cell_type": "code",
   "execution_count": 82,
   "metadata": {},
   "outputs": [
    {
     "name": "stdout",
     "output_type": "stream",
     "text": [
      "[1, 2]\n",
      "['你好王大锤']\n",
      "['你', '好', '王', '大', '锤']\n"
     ]
    }
   ],
   "source": [
    "# list 将其他格式的数据转化为list\n",
    "\n",
    "a = [1,2]\n",
    "print(list(a))\n",
    "\n",
    "b=[\"你好王大锤\"]\n",
    "print(list(b))\n",
    "\n",
    "s = \"你好王大锤\"\n",
    "print(list(s))"
   ]
  },
  {
   "cell_type": "code",
   "execution_count": 83,
   "metadata": {},
   "outputs": [
    {
     "name": "stdout",
     "output_type": "stream",
     "text": [
      "[12, 13, 14, 15, 16, 17, 18]\n"
     ]
    }
   ],
   "source": [
    "# 把range产生的内容转换成list\n",
    "print(list(range(12,19)))"
   ]
  },
  {
   "cell_type": "code",
   "execution_count": null,
   "metadata": {},
   "outputs": [],
   "source": []
  }
 ],
 "metadata": {
  "kernelspec": {
   "display_name": "Python 3",
   "language": "python",
   "name": "python3"
  },
  "language_info": {
   "codemirror_mode": {
    "name": "ipython",
    "version": 3
   },
   "file_extension": ".py",
   "mimetype": "text/x-python",
   "name": "python",
   "nbconvert_exporter": "python",
   "pygments_lexer": "ipython3",
   "version": "3.7.0"
  }
 },
 "nbformat": 4,
 "nbformat_minor": 2
}
